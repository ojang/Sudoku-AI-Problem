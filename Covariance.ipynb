{
 "cells": [
  {
   "cell_type": "code",
   "execution_count": 50,
   "metadata": {
    "collapsed": true
   },
   "outputs": [],
   "source": [
    "import numpy as numpy\n",
    "\n",
    "x = numpy.array([1,2])\n",
    "y = numpy.array([0.1,2])"
   ]
  },
  {
   "cell_type": "code",
   "execution_count": 51,
   "metadata": {},
   "outputs": [],
   "source": [
    "#(x - x.mean()).mean() * (y - y.mean()).mean()"
   ]
  },
  {
   "cell_type": "code",
   "execution_count": 52,
   "metadata": {},
   "outputs": [
    {
     "name": "stdout",
     "output_type": "stream",
     "text": [
      "0.475\n"
     ]
    }
   ],
   "source": [
    "def cov(x,y):\n",
    " \n",
    "    if len(x) != len(y):\n",
    "        return\n",
    "         \n",
    "    n = len(x)\n",
    "     \n",
    "    xy = [x[i]*y[i] for i in range(n)]\n",
    "     \n",
    "    mean_x = sum(x)/float(n)\n",
    "    mean_y = sum(y)/float(n)\n",
    "     \n",
    "    return (sum(xy) - n*mean_x * mean_y) / float(n)\n",
    "    # following code is can also be used to calculate the same result\n",
    "    #return sum([(x[i]-mean_x)*(y[i]-mean_y) for i in range(n)])\n",
    " \n",
    " \n",
    "\n",
    " \n",
    "print (cov(x,y)) "
   ]
  },
  {
   "cell_type": "code",
   "execution_count": 53,
   "metadata": {},
   "outputs": [
    {
     "data": {
      "text/plain": [
       "0.47499999999999998"
      ]
     },
     "execution_count": 53,
     "metadata": {},
     "output_type": "execute_result"
    }
   ],
   "source": [
    "numpy.mean((x - x.mean()) * ((y - y.mean())))"
   ]
  },
  {
   "cell_type": "code",
   "execution_count": 54,
   "metadata": {},
   "outputs": [
    {
     "data": {
      "text/plain": [
       "0.47499999999999987"
      ]
     },
     "execution_count": 54,
     "metadata": {},
     "output_type": "execute_result"
    }
   ],
   "source": [
    "numpy.mean((x * y) - (x.mean() * y.mean()))"
   ]
  },
  {
   "cell_type": "code",
   "execution_count": null,
   "metadata": {
    "collapsed": true
   },
   "outputs": [],
   "source": []
  }
 ],
 "metadata": {
  "kernelspec": {
   "display_name": "Python 3",
   "language": "python",
   "name": "python3"
  },
  "language_info": {
   "codemirror_mode": {
    "name": "ipython",
    "version": 3
   },
   "file_extension": ".py",
   "mimetype": "text/x-python",
   "name": "python",
   "nbconvert_exporter": "python",
   "pygments_lexer": "ipython3",
   "version": "3.6.1"
  }
 },
 "nbformat": 4,
 "nbformat_minor": 2
}
